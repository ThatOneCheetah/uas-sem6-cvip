{
 "cells": [
  {
   "cell_type": "code",
   "execution_count": null,
   "metadata": {},
   "outputs": [],
   "source": [
    "# Q1. An image of 7 inch high and 5 inch wide is digitized using a color camera system. The\n",
    "# camera output is a 300 dpi 8 bit RGB picture and is cut to exactly match the image.\n",
    "# a. (1 pts, L1) What is the size of the image in pixels?\n",
    "# b. (1 pts, L1) How is the color white represented?\n",
    "# c. (1 pts, L1) How is the color green represented?"
   ]
  },
  {
   "cell_type": "markdown",
   "metadata": {},
   "source": [
    "Theory Questions\n",
    "---\n",
    "\n",
    "**Q1.**  \n",
    "An image of 7\" high and 5\" wide is digitized using a colour camera system.  \n",
    "The camera output is a 300 dpi, 8 bit, RGB picture. The output is cut exactly to match the image.  \n",
    "\n",
    "*a. What is the size of the image in pixels?*  \n",
    "> 2100 x 1500  \n",
    "  \n",
    "*b. How is the color white represented?*  \n",
    "> Assuming \"8bit=8bpc\": 0xFFFFFF  \n",
    "> Assuming \"8bit=RGB332\": 0b11111111  \n",
    "  \n",
    "*c. How is the color green represented?*  \n",
    "> Assuming \"8bit=8bpc\": 0x00FF00  \n",
    "> Assuming \"8bit=RGB332\": 0b00011100  \n",
    "  \n",
    "**Q2.**  \n",
    "Assume the values in the following matrix (I) represents a monochrome image.\n",
    "\n",
    "![](static/image/q2_I.webp)\n",
    "\n",
    "*a. Consider the set of pixels V with an intensity above 6. Mark them in the\n",
    "matrix above by circling them and draw lines between the pixels that satisfy mixed\n",
    "adjacency.*\n",
    "\n",
    "![](static/image/q2a_I.webp)\n",
    "\n",
    "*b. Consider the set of pixels V with an intensity equal to 5. Mark them in\n",
    "the matrix above by putting a diamond around them and draw lines between the\n",
    "pixels that satisfy 4-adjacency.*\n",
    "\n",
    "![](static/image/q2b_I.webp)"
   ]
  },
  {
   "cell_type": "code",
   "execution_count": null,
   "metadata": {},
   "outputs": [],
   "source": []
  }
 ],
 "metadata": {
  "interpreter": {
   "hash": "916dbcbb3f70747c44a77c7bcd40155683ae19c65e1c03b4aa3499c5328201f1"
  },
  "kernelspec": {
   "display_name": "Python 3.10.4 64-bit",
   "language": "python",
   "name": "python3"
  },
  "language_info": {
   "name": "python",
   "version": "3.10.4"
  },
  "orig_nbformat": 4
 },
 "nbformat": 4,
 "nbformat_minor": 2
}
